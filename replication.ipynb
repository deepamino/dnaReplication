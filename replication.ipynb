{
 "cells": [
  {
   "cell_type": "markdown",
   "metadata": {},
   "source": [
    "# P01: Replication Process"
   ]
  },
  {
   "cell_type": "markdown",
   "metadata": {},
   "source": [
    "To start with, we load the Classes and Functions that we will use in this notebook. As explained in the README file, we will use the `Replication` class to replicate some DNA sequences. This sequences can be obtained through the `LoaderFactory` class, allowing us to load the sequences from a file path or from the ncbi's API directly."
   ]
  },
  {
   "cell_type": "code",
   "execution_count": 1,
   "metadata": {},
   "outputs": [],
   "source": [
    "from replication.dna import DNA\n",
    "from replication.replication import Replication\n",
    "from replication.dna_utils import DNAUtils\n",
    "\n",
    "from data_loader import LoaderFactory"
   ]
  },
  {
   "cell_type": "markdown",
   "metadata": {},
   "source": [
    "## Local DNA Sequences"
   ]
  },
  {
   "cell_type": "markdown",
   "metadata": {},
   "source": [
    "### Load DNA Sequences from a File"
   ]
  },
  {
   "cell_type": "markdown",
   "metadata": {},
   "source": [
    "The first step is to load the DNA sequences from a file whenever this is the application case. To do so, we have followed the Factory Method pattern, which allows us to create a `Loader` object that will load the sequences from different sources, depending on the needs of the application. In this case, we will use the `FileDataLoader` class to load the sequences from a file."
   ]
  },
  {
   "cell_type": "code",
   "execution_count": 2,
   "metadata": {},
   "outputs": [],
   "source": [
    "loader = LoaderFactory.initialize_loader('Files')\n",
    "dna_seq = loader.collect('./data/Data1.txt')"
   ]
  },
  {
   "cell_type": "code",
   "execution_count": 3,
   "metadata": {},
   "outputs": [],
   "source": [
    "def write_results(filename, dna):\n",
    "    with open(filename, 'w') as file:\n",
    "        file.write(dna)"
   ]
  },
  {
   "cell_type": "markdown",
   "metadata": {},
   "source": [
    "Once we have obtained the sequence directly from the file, we can extract some information from it, such as the number of nucleotides that it contains."
   ]
  },
  {
   "cell_type": "code",
   "execution_count": 4,
   "metadata": {},
   "outputs": [
    {
     "name": "stdout",
     "output_type": "stream",
     "text": [
      "Number of nucleotides: 935\n"
     ]
    }
   ],
   "source": [
    "dna = DNA(dna_seq)\n",
    "dna.show_nucleotides()"
   ]
  },
  {
   "cell_type": "markdown",
   "metadata": {},
   "source": [
    "## Simulation process"
   ]
  },
  {
   "cell_type": "markdown",
   "metadata": {},
   "source": [
    "We simulate now the replication process of the DNA sequence. We will use the `Replication` class to replicate the DNA sequence, which will simulate the creation of all necessary enzymes that participate in the replication process. The output of its `execute`method will show how replication occurs, step by step, in the real world."
   ]
  },
  {
   "cell_type": "code",
   "execution_count": 5,
   "metadata": {},
   "outputs": [
    {
     "name": "stdout",
     "output_type": "stream",
     "text": [
      "Number of helicases: 4\n",
      "----------------------------------------------------------------------------------------------------\n",
      "Helicases bind to the DNA strand and unwind the double helix at the positions: [0, 273, 475, 699]\n",
      "Leading strand replication process...\n",
      "Helicase unwinds the DNA double helix...\n",
      "The unique primer of each the leading strand is placed at the 5' end of the DNA strand in positions:  [0, 273, 475, 699, 935]\n",
      "----------------------------------------------------------------------------------------------------\n",
      "The ADN polymerase enzyme is added to each primer and begins to synthesize the new DNA strand...\n",
      "The leading strand replication process is complete.\n",
      "----------------------------------------------------------------------------------------------------\n",
      "Lagging strand replication process...\n",
      "The lagging strand is synthesized in fragments called Okazaki fragments.\n",
      "Helicases unwind the DNA double helix at the following positions:  [0, 273, 475, 699, 935]\n",
      "----------------------------------------------------------------------------------------------------\n",
      "Lagging strand replication for Helicase 1\n",
      "The primer has been detected and it starts the replication process from 45 to 0\n",
      "The primer has been detected and it starts the replication process from 90 to 45\n",
      "The primer has been detected and it starts the replication process from 135 to 90\n",
      "The primer has been detected and it starts the replication process from 180 to 135\n",
      "The primer has been detected and it starts the replication process from 225 to 180\n",
      "The primer has been detected and it starts the replication process from 273 to 225\n",
      "----------------------------------------------------------------------------------------------------\n",
      "Lagging strand replication for Helicase 2\n",
      "The primer has been detected and it starts the replication process from 301 to 273\n",
      "The primer has been detected and it starts the replication process from 329 to 301\n",
      "The primer has been detected and it starts the replication process from 357 to 329\n",
      "The primer has been detected and it starts the replication process from 385 to 357\n",
      "The primer has been detected and it starts the replication process from 413 to 385\n",
      "The primer has been detected and it starts the replication process from 441 to 413\n",
      "The primer has been detected and it starts the replication process from 475 to 441\n",
      "----------------------------------------------------------------------------------------------------\n",
      "Lagging strand replication for Helicase 3\n",
      "The primer has been detected and it starts the replication process from 495 to 475\n",
      "The primer has been detected and it starts the replication process from 515 to 495\n",
      "The primer has been detected and it starts the replication process from 535 to 515\n",
      "The primer has been detected and it starts the replication process from 555 to 535\n",
      "The primer has been detected and it starts the replication process from 575 to 555\n",
      "The primer has been detected and it starts the replication process from 595 to 575\n",
      "The primer has been detected and it starts the replication process from 615 to 595\n",
      "The primer has been detected and it starts the replication process from 635 to 615\n",
      "The primer has been detected and it starts the replication process from 655 to 635\n",
      "The primer has been detected and it starts the replication process from 675 to 655\n",
      "The primer has been detected and it starts the replication process from 699 to 675\n",
      "----------------------------------------------------------------------------------------------------\n",
      "Lagging strand replication for Helicase 4\n",
      "The primer has been detected and it starts the replication process from 722 to 699\n",
      "The primer has been detected and it starts the replication process from 745 to 722\n",
      "The primer has been detected and it starts the replication process from 768 to 745\n",
      "The primer has been detected and it starts the replication process from 791 to 768\n",
      "The primer has been detected and it starts the replication process from 814 to 791\n",
      "The primer has been detected and it starts the replication process from 837 to 814\n",
      "The primer has been detected and it starts the replication process from 860 to 837\n",
      "The primer has been detected and it starts the replication process from 883 to 860\n",
      "The primer has been detected and it starts the replication process from 906 to 883\n",
      "The primer has been detected and it starts the replication process from 935 to 906\n",
      "----------------------------------------------------------------------------------------------------\n",
      "Lagging strand's replication process has been completed\n",
      "The replication process is complete.\n"
     ]
    }
   ],
   "source": [
    "replication = Replication()\n",
    "dna_son1, dna_son2 = replication.execute(dna)"
   ]
  },
  {
   "cell_type": "markdown",
   "metadata": {},
   "source": [
    "We now check the replication process has been successful by comparing the original DNA sequence with the replicated one."
   ]
  },
  {
   "cell_type": "code",
   "execution_count": 6,
   "metadata": {},
   "outputs": [
    {
     "name": "stdout",
     "output_type": "stream",
     "text": [
      "The replication process has been successful.\n"
     ]
    }
   ],
   "source": [
    "dNAUtils = DNAUtils()\n",
    "test1 = dNAUtils.test_dna(dna.strand, dna_son2)\n",
    "test2 = dNAUtils.test_dna(dna.comp, dna_son1)\n",
    "\n",
    "if test1 and test2:\n",
    "    print(\"The replication process has been successful.\")\n",
    "else:\n",
    "    print(\"There's been a mutation in the replication process.\")\n",
    "\n",
    "write_results('./data/son_1.txt', dna_son1)\n",
    "write_results('./data/son_2.txt', dna_son2)"
   ]
  },
  {
   "cell_type": "markdown",
   "metadata": {},
   "source": [
    "Given this result, we are able to move towards more challenging tasks, such as loading DNA sequences from ncbi's API."
   ]
  },
  {
   "cell_type": "markdown",
   "metadata": {},
   "source": [
    "## Remote DNA Sequences"
   ]
  },
  {
   "cell_type": "markdown",
   "metadata": {},
   "source": [
    "### Load DNA Sequences from the NCBI's API"
   ]
  },
  {
   "cell_type": "markdown",
   "metadata": {},
   "source": [
    "We now initialize the `LoaderFactory` class to load the DNA sequences from the ncbi's API. We will use the `ApiDataLoader` class to load the sequences from the API."
   ]
  },
  {
   "cell_type": "code",
   "execution_count": 7,
   "metadata": {},
   "outputs": [],
   "source": [
    "loader = LoaderFactory.initialize_loader('APIncbi')\n",
    "dna_seq = loader.collect()"
   ]
  },
  {
   "cell_type": "markdown",
   "metadata": {},
   "source": [
    "Once connected to the API, we can load the DNA sequences from it."
   ]
  },
  {
   "cell_type": "code",
   "execution_count": 8,
   "metadata": {},
   "outputs": [
    {
     "name": "stdout",
     "output_type": "stream",
     "text": [
      "Found 10 results.\n",
      "NR_197590.1: CTCCGTCCCTTCTATTCTCAGCGCCCGCCTGGCAGGACGACTGAGCAAGGCTTTGGAAAACCAGAGAGATTAGAGCGCAGAATGGGGAAATGGAGAGAGAACCTGAAAGAGCCCCAAACTCGAGGACCTATTGCTCCCCAAGAATAACATCTTCCAGAACTAGACAGAAACTAAGCGTCTGGAAACCCTGAAATCCTTGGAGGAGTAGCATCATCCTGACCCTCTGTGCTCCTTTTGGCAAAGGACTTGCTTCCATTGTTTGTTTGTTCAATTGTCTGTTTGTTAAATAAATAAAACTCTTTTCATATATCTTTAAAA\n"
     ]
    }
   ],
   "source": [
    "for id, seq in dna_seq:\n",
    "    print(f'{id}: {seq}')\n",
    "    break"
   ]
  },
  {
   "cell_type": "markdown",
   "metadata": {},
   "source": [
    "We will be obtaining 10 DNA sequences from the API for each data load, but we can modify this number, as is shown in the code below.\n",
    "\n",
    "Notice that the API returns the DNA sequences corresponding to human dna by default, related to different chromosomes. However, we can modify the query to obtain sequences from other organisms or chromosomes by modifying the `ApiDataLoader` class."
   ]
  },
  {
   "cell_type": "markdown",
   "metadata": {},
   "source": [
    "## Simulation process"
   ]
  },
  {
   "cell_type": "markdown",
   "metadata": {},
   "source": [
    "We will collect three different DNA sequences from the API and simulate the replication process of each of them."
   ]
  },
  {
   "cell_type": "code",
   "execution_count": 9,
   "metadata": {},
   "outputs": [],
   "source": [
    "dna_seq = loader.collect(3)"
   ]
  },
  {
   "cell_type": "code",
   "execution_count": 10,
   "metadata": {},
   "outputs": [
    {
     "name": "stdout",
     "output_type": "stream",
     "text": [
      "Found 3 results.\n",
      "Number of nucleotides: 318\n",
      "Replicating NR_197590.1...\n",
      "Number of helicases: 1\n",
      "----------------------------------------------------------------------------------------------------\n",
      "Helicases bind to the DNA strand and unwind the double helix at the positions: [0]\n",
      "Leading strand replication process...\n",
      "Helicase unwinds the DNA double helix...\n",
      "The unique primer of each the leading strand is placed at the 5' end of the DNA strand in positions:  [0, 318]\n",
      "----------------------------------------------------------------------------------------------------\n",
      "The ADN polymerase enzyme is added to each primer and begins to synthesize the new DNA strand...\n",
      "The leading strand replication process is complete.\n",
      "----------------------------------------------------------------------------------------------------\n",
      "Lagging strand replication process...\n",
      "The lagging strand is synthesized in fragments called Okazaki fragments.\n",
      "Helicases unwind the DNA double helix at the following positions:  [0, 318]\n",
      "----------------------------------------------------------------------------------------------------\n",
      "Lagging strand replication for Helicase 1\n",
      "The primer has been detected and it starts the replication process from 39 to 0\n",
      "The primer has been detected and it starts the replication process from 78 to 39\n",
      "The primer has been detected and it starts the replication process from 117 to 78\n",
      "The primer has been detected and it starts the replication process from 156 to 117\n",
      "The primer has been detected and it starts the replication process from 195 to 156\n",
      "The primer has been detected and it starts the replication process from 234 to 195\n",
      "The primer has been detected and it starts the replication process from 273 to 234\n",
      "The primer has been detected and it starts the replication process from 318 to 273\n",
      "----------------------------------------------------------------------------------------------------\n",
      "Lagging strand's replication process has been completed\n",
      "The replication process is complete.\n",
      "NR_197590.1 has been replicated successfully.\n",
      "\n",
      "\n",
      "\n",
      "Number of nucleotides: 315\n",
      "Replicating NR_197591.1...\n",
      "Number of helicases: 1\n",
      "----------------------------------------------------------------------------------------------------\n",
      "Helicases bind to the DNA strand and unwind the double helix at the positions: [0]\n",
      "Leading strand replication process...\n",
      "Helicase unwinds the DNA double helix...\n",
      "The unique primer of each the leading strand is placed at the 5' end of the DNA strand in positions:  [0, 315]\n",
      "----------------------------------------------------------------------------------------------------\n",
      "The ADN polymerase enzyme is added to each primer and begins to synthesize the new DNA strand...\n",
      "The leading strand replication process is complete.\n",
      "----------------------------------------------------------------------------------------------------\n",
      "Lagging strand replication process...\n",
      "The lagging strand is synthesized in fragments called Okazaki fragments.\n",
      "Helicases unwind the DNA double helix at the following positions:  [0, 315]\n",
      "----------------------------------------------------------------------------------------------------\n",
      "Lagging strand replication for Helicase 1\n",
      "The primer has been detected and it starts the replication process from 26 to 0\n",
      "The primer has been detected and it starts the replication process from 52 to 26\n",
      "The primer has been detected and it starts the replication process from 78 to 52\n",
      "The primer has been detected and it starts the replication process from 104 to 78\n",
      "The primer has been detected and it starts the replication process from 130 to 104\n",
      "The primer has been detected and it starts the replication process from 156 to 130\n",
      "The primer has been detected and it starts the replication process from 182 to 156\n",
      "The primer has been detected and it starts the replication process from 208 to 182\n",
      "The primer has been detected and it starts the replication process from 234 to 208\n",
      "The primer has been detected and it starts the replication process from 260 to 234\n",
      "The primer has been detected and it starts the replication process from 286 to 260\n",
      "The primer has been detected and it starts the replication process from 315 to 286\n",
      "----------------------------------------------------------------------------------------------------\n",
      "Lagging strand's replication process has been completed\n",
      "The replication process is complete.\n",
      "NR_197591.1 has been replicated successfully.\n",
      "\n",
      "\n",
      "\n",
      "Number of nucleotides: 1003\n",
      "Replicating NR_197587.1...\n",
      "Number of helicases: 5\n",
      "----------------------------------------------------------------------------------------------------\n",
      "Helicases bind to the DNA strand and unwind the double helix at the positions: [0, 151, 362, 562, 800]\n",
      "Leading strand replication process...\n",
      "Helicase unwinds the DNA double helix...\n",
      "The unique primer of each the leading strand is placed at the 5' end of the DNA strand in positions:  [0, 151, 362, 562, 800, 1003]\n",
      "----------------------------------------------------------------------------------------------------\n",
      "The ADN polymerase enzyme is added to each primer and begins to synthesize the new DNA strand...\n",
      "The leading strand replication process is complete.\n",
      "----------------------------------------------------------------------------------------------------\n",
      "Lagging strand replication process...\n",
      "The lagging strand is synthesized in fragments called Okazaki fragments.\n",
      "Helicases unwind the DNA double helix at the following positions:  [0, 151, 362, 562, 800, 1003]\n",
      "----------------------------------------------------------------------------------------------------\n",
      "Lagging strand replication for Helicase 1\n",
      "The primer has been detected and it starts the replication process from 30 to 0\n",
      "The primer has been detected and it starts the replication process from 60 to 30\n",
      "The primer has been detected and it starts the replication process from 90 to 60\n",
      "The primer has been detected and it starts the replication process from 120 to 90\n",
      "The primer has been detected and it starts the replication process from 151 to 120\n",
      "----------------------------------------------------------------------------------------------------\n",
      "Lagging strand replication for Helicase 2\n",
      "The primer has been detected and it starts the replication process from 181 to 151\n",
      "The primer has been detected and it starts the replication process from 211 to 181\n",
      "The primer has been detected and it starts the replication process from 241 to 211\n",
      "The primer has been detected and it starts the replication process from 271 to 241\n",
      "The primer has been detected and it starts the replication process from 301 to 271\n",
      "The primer has been detected and it starts the replication process from 331 to 301\n",
      "The primer has been detected and it starts the replication process from 362 to 331\n",
      "----------------------------------------------------------------------------------------------------\n",
      "Lagging strand replication for Helicase 3\n",
      "The primer has been detected and it starts the replication process from 387 to 362\n",
      "The primer has been detected and it starts the replication process from 412 to 387\n",
      "The primer has been detected and it starts the replication process from 437 to 412\n",
      "The primer has been detected and it starts the replication process from 462 to 437\n",
      "The primer has been detected and it starts the replication process from 487 to 462\n",
      "The primer has been detected and it starts the replication process from 512 to 487\n",
      "The primer has been detected and it starts the replication process from 537 to 512\n",
      "The primer has been detected and it starts the replication process from 562 to 537\n",
      "----------------------------------------------------------------------------------------------------\n",
      "Lagging strand replication for Helicase 4\n",
      "The primer has been detected and it starts the replication process from 591 to 562\n",
      "The primer has been detected and it starts the replication process from 620 to 591\n",
      "The primer has been detected and it starts the replication process from 649 to 620\n",
      "The primer has been detected and it starts the replication process from 678 to 649\n",
      "The primer has been detected and it starts the replication process from 707 to 678\n",
      "The primer has been detected and it starts the replication process from 736 to 707\n",
      "The primer has been detected and it starts the replication process from 765 to 736\n",
      "The primer has been detected and it starts the replication process from 800 to 765\n",
      "----------------------------------------------------------------------------------------------------\n",
      "Lagging strand replication for Helicase 5\n",
      "The primer has been detected and it starts the replication process from 822 to 800\n",
      "The primer has been detected and it starts the replication process from 844 to 822\n",
      "The primer has been detected and it starts the replication process from 866 to 844\n",
      "The primer has been detected and it starts the replication process from 888 to 866\n",
      "The primer has been detected and it starts the replication process from 910 to 888\n",
      "The primer has been detected and it starts the replication process from 932 to 910\n",
      "The primer has been detected and it starts the replication process from 954 to 932\n",
      "The primer has been detected and it starts the replication process from 976 to 954\n",
      "The primer has been detected and it starts the replication process from 1003 to 976\n",
      "----------------------------------------------------------------------------------------------------\n",
      "Lagging strand's replication process has been completed\n",
      "The replication process is complete.\n",
      "NR_197587.1 has been replicated successfully.\n",
      "\n",
      "\n",
      "\n"
     ]
    }
   ],
   "source": [
    "for id, seq in dna_seq:\n",
    "    dna = DNA(seq)\n",
    "    dna.show_nucleotides()\n",
    "\n",
    "    print(f'Replicating {id}...')\n",
    "\n",
    "    replication = Replication()\n",
    "\n",
    "    rate = 0.005\n",
    "    scale = 20\n",
    "\n",
    "    dna_son1, dna_son2 = replication.execute(dna, scale=scale)\n",
    "    dNAUtils = DNAUtils()\n",
    "    test1 = dNAUtils.test_dna(dna.strand, dna_son2)\n",
    "    test2 = dNAUtils.test_dna(dna.comp, dna_son1)\n",
    "\n",
    "    if test1 and test2:\n",
    "        write_results(f'./data/{id}_son1.dna', dna_son1)\n",
    "        write_results(f'./data/{id}_son2.dna', dna_son2)\n",
    "\n",
    "    else:\n",
    "        continue\n",
    "\n",
    "    print(f'{id} has been replicated successfully.')\n",
    "    print('\\n\\n')"
   ]
  },
  {
   "cell_type": "markdown",
   "metadata": {},
   "source": [
    "## Accessing our API"
   ]
  },
  {
   "cell_type": "markdown",
   "metadata": {},
   "source": [
    "We have developed a simple API that allows us to access the DNA replica sequences that we have generated. Also, one could enter some DNA sequences and replicate them using the API. You can see both use cases below."
   ]
  },
  {
   "cell_type": "markdown",
   "metadata": {},
   "source": [
    "### Get Replica Method"
   ]
  },
  {
   "cell_type": "code",
   "execution_count": 11,
   "metadata": {},
   "outputs": [],
   "source": [
    "api_path = 'http://127.0.0.1:5000'"
   ]
  },
  {
   "cell_type": "code",
   "execution_count": 12,
   "metadata": {},
   "outputs": [],
   "source": [
    "import requests"
   ]
  },
  {
   "cell_type": "code",
   "execution_count": 13,
   "metadata": {},
   "outputs": [],
   "source": [
    "get_dna_replica_path = '/replica?id=NR_105010.2'\n",
    "response = requests.get(api_path + get_dna_replica_path)"
   ]
  },
  {
   "cell_type": "code",
   "execution_count": 14,
   "metadata": {},
   "outputs": [
    {
     "data": {
      "text/plain": [
       "{'son1': 'TAAACTCTAGGCTCATACTAACCCCTTTATAGGACTTTATCAGATACTAAACTTCTTTACCTATCTACCGATCTTATTGTACGATCTACCATCAGTTCAATGATTGACGTCTTAACTAAACTATTTTAAGAGTAGCACAGAGGACTGAATCCTCTTTATAACCCAGACTACTTACCCATTTTAAGGGTCCACTTTTCTTAAACCAGACATTCTAAACCGTCGTGGGACTCCAAACGGTATAGACTACCGGACCGAAATCACCGTCGTGGATCACTTCCGGGTCCACAGGAAGACTGTTGGAAATGGTGGATGGCAAAACAGGAATGAATACAACTTAGTGATGTGTGTCCGACAACTTAAGTCGACAGACACCTCTTTAATATGGTTGGTGTACCAATCTGTCTTCCTTATGTTATATAACGAATTAAACATAGACTTTCGATTCGTTGTACCTTTTTTTAGTTCGTACGAGTCAGTGAAGGTACTCCTGTTTGCTTCTGTGAAGTTCCTCCTGTAACTGTACCTAGACGGTCGAAAGATTCTGAAAGGGGTCTAAGTTCAGGTCAGTGTAGTTCAACGGAATAATTTCCCAGACGGGTGAGTTTTCCTCTTTCACGTTTTCTACGAGTCGTTCCCATCGTTTGCGTCAGTCTACTATGAAGGACTGTCGTAGGTTCTCGTTCAGAGTGGTGGTGTAGACAGTTATTTTTTCTTTTGTTCCTCGACGGTTAAACAGATAAATATCCACGGTTATTTTAGGACGTGTCTT',\n",
       " 'son2': 'ATTTGAGATCCGAGTATGATTGGGGAAATATCCTGAAATAGTCTATGATTTGAAGAAATGGATAGATGGCTAGAATAACATGCTAGATGGTAGTCAAGTTACTAACTGCAGAATTGATTTGATAAAATTCTCATCGTGTCTCCTGACTTAGGAGAAATATTGGGTCTGATGAATGGGTAAAATTCCCAGGTGAAAAGAATTTGGTCTGTAAGATTTGGCAGCACCCTGAGGTTTGCCATATCTGATGGCCTGGCTTTAGTGGCAGCACCTAGTGAAGGCCCAGGTGTCCTTCTGACAACCTTTACCACCTACCGTTTTGTCCTTACTTATGTTGAATCACTACACACAGGCTGTTGAATTCAGCTGTCTGTGGAGAAATTATACCAACCACATGGTTAGACAGAAGGAATACAATATATTGCTTAATTTGTATCTGAAAGCTAAGCAACATGGAAAAAAATCAAGCATGCTCAGTCACTTCCATGAGGACAAACGAAGACACTTCAAGGAGGACATTGACATGGATCTGCCAGCTTTCTAAGACTTTCCCCAGATTCAAGTCCAGTCACATCAAGTTGCCTTATTAAAGGGTCTGCCCACTCAAAAGGAGAAAGTGCAAAAGATGCTCAGCAAGGGTAGCAAACGCAGTCAGATGATACTTCCTGACAGCATCCAAGAGCAAGTCTCACCACCACATCTGTCAATAAAAAAGAAAACAAGGAGCTGCCAATTTGTCTATTTATAGGTGCCAATAAAATCCTGCACAGAA'}"
      ]
     },
     "execution_count": 14,
     "metadata": {},
     "output_type": "execute_result"
    }
   ],
   "source": [
    "response.json()"
   ]
  },
  {
   "cell_type": "markdown",
   "metadata": {},
   "source": [
    "### Replicate Method"
   ]
  },
  {
   "cell_type": "code",
   "execution_count": 15,
   "metadata": {},
   "outputs": [],
   "source": [
    "loader = LoaderFactory.initialize_loader('Files')\n",
    "dna_seq = loader.collect('./data/Data1.txt')"
   ]
  },
  {
   "cell_type": "code",
   "execution_count": 16,
   "metadata": {},
   "outputs": [
    {
     "data": {
      "text/plain": [
       "{'son1': 'TGCGTTGTGCGTTGATCGTTCTTGCATAAGGGCTGCGTTGAAGGGCTGCGTTGTGCGTTGCTTGCATATCGTTAAGGGCTGCGTTGATCGTTCTTGCATATCGTTAAGGGCTAACAGCTTGCATCTTGCATTGCGTTGTGCGTTGTGCGTTGCTTGCATATCGTTAAGGGCCTTGCATTAACAGTAACAGAAGGGCCTTGCATTAACAGAAGGGCTAACAGTAACAGCTTGCATAAGGGCCTTGCATTGCGTTGAAGGGCTGCGTTGCTTGCATTGCGTTGAAGGGCCTTGCATTAACAGATCGTTATCGTTTGCGTTGATCGTTTGCGTTGAAGGGCTGCGTTGCTTGCATCTTGCATATCGTTATCGTTCTTGCATTAACAGTAACAGTGCGTTGTGCGTTGATCGTTCTTGCATATCGTTCTTGCATCTTGCATATCGTTCTTGCATTGCGTTGCTTGCATATCGTTTGCGTTGAAGGGCTAACAGTGCGTTGTAACAGTAACAGATCGTTAAGGGCTAACAGCTTGCATATCGTTATCGTTTGCGTTGTAACAGTAACAGATCGTTTGCGTTGATCGTTTGCGTTGCTTGCATTAACAGATCGTTAAGGGCTAACAGAAGGGCAAGGGCCTTGCATTAACAGCTTGCATATCGTTATCGTTCTTGCATTAACAGTAACAGATCGTTATCGTTCTTGCATATCGTTCTTGCATAAGGGCTGCGTTGCTTGCATTGCGTTGAAGGGCAAGGGCTGCGTTGTAACAGCTTGCATTAACAGTAACAGCTTGCATATCGTTATCGTTATCGTTTAACAGCTTGCATCTTGCATCTTGCATCTTGCATAAGGGCAAGGGCTGCGTTGTGCGTTGATCGTTTGCGTTGAAGGGCAAGGGCATCGTTCTTGCATTGCGTTGATCGTTATCGTTTAACAG',\n",
       " 'son2': 'ACGCAACACGCAACTAGCAAGAACGTATTCCCGACGCAACTTCCCGACGCAACACGCAACGAACGTATAGCAATTCCCGACGCAACTAGCAAGAACGTATAGCAATTCCCGATTGTCGAACGTAGAACGTAACGCAACACGCAACACGCAACGAACGTATAGCAATTCCCGGAACGTAATTGTCATTGTCTTCCCGGAACGTAATTGTCTTCCCGATTGTCATTGTCGAACGTATTCCCGGAACGTAACGCAACTTCCCGACGCAACGAACGTAACGCAACTTCCCGGAACGTAATTGTCTAGCAATAGCAAACGCAACTAGCAAACGCAACTTCCCGACGCAACGAACGTAGAACGTATAGCAATAGCAAGAACGTAATTGTCATTGTCACGCAACACGCAACTAGCAAGAACGTATAGCAAGAACGTAGAACGTATAGCAAGAACGTAACGCAACGAACGTATAGCAAACGCAACTTCCCGATTGTCACGCAACATTGTCATTGTCTAGCAATTCCCGATTGTCGAACGTATAGCAATAGCAAACGCAACATTGTCATTGTCTAGCAAACGCAACTAGCAAACGCAACGAACGTAATTGTCTAGCAATTCCCGATTGTCTTCCCGTTCCCGGAACGTAATTGTCGAACGTATAGCAATAGCAAGAACGTAATTGTCATTGTCTAGCAATAGCAAGAACGTATAGCAAGAACGTATTCCCGACGCAACGAACGTAACGCAACTTCCCGTTCCCGACGCAACATTGTCGAACGTAATTGTCATTGTCGAACGTATAGCAATAGCAATAGCAAATTGTCGAACGTAGAACGTAGAACGTAGAACGTATTCCCGTTCCCGACGCAACACGCAACTAGCAAACGCAACTTCCCGTTCCCGTAGCAAGAACGTAACGCAACTAGCAATAGCAAATTGTC'}"
      ]
     },
     "execution_count": 16,
     "metadata": {},
     "output_type": "execute_result"
    }
   ],
   "source": [
    "post_dna_path = '/replicate'\n",
    "data = {'dna': dna_seq}\n",
    "\n",
    "response = requests.post(api_path + post_dna_path, json=data)\n",
    "response.json()"
   ]
  }
 ],
 "metadata": {
  "kernelspec": {
   "display_name": "Python 3",
   "language": "python",
   "name": "python3"
  },
  "language_info": {
   "codemirror_mode": {
    "name": "ipython",
    "version": 3
   },
   "file_extension": ".py",
   "mimetype": "text/x-python",
   "name": "python",
   "nbconvert_exporter": "python",
   "pygments_lexer": "ipython3",
   "version": "3.9.13"
  }
 },
 "nbformat": 4,
 "nbformat_minor": 2
}
