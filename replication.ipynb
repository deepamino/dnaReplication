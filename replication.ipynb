{
 "cells": [
  {
   "cell_type": "markdown",
   "metadata": {},
   "source": [
    "# P01: Replication Process"
   ]
  },
  {
   "cell_type": "code",
   "execution_count": 1,
   "metadata": {},
   "outputs": [],
   "source": [
    "from dna import DNA\n",
    "from replication import Replication\n",
    "from dna_utils import DNAUtils"
   ]
  },
  {
   "cell_type": "markdown",
   "metadata": {},
   "source": [
    "### Lectura de la cadena de ADN"
   ]
  },
  {
   "cell_type": "code",
   "execution_count": 2,
   "metadata": {},
   "outputs": [],
   "source": [
    "dna_seq = \"\"\n",
    "filename = \"./data/Data1.txt\"\n",
    "\n",
    "with open(filename, 'r') as filename:\n",
    "    for line in filename:\n",
    "        dna_seq += line.strip()\n",
    "        break"
   ]
  },
  {
   "cell_type": "code",
   "execution_count": 3,
   "metadata": {},
   "outputs": [],
   "source": [
    "def write_results(filename, dna):\n",
    "    with open(filename, 'w') as file:\n",
    "        file.write(dna)"
   ]
  },
  {
   "cell_type": "code",
   "execution_count": 4,
   "metadata": {},
   "outputs": [
    {
     "name": "stdout",
     "output_type": "stream",
     "text": [
      "Number of nucleotides: 935\n"
     ]
    }
   ],
   "source": [
    "dna = DNA(dna_seq)\n",
    "dna.show_nucleotides()"
   ]
  },
  {
   "cell_type": "markdown",
   "metadata": {},
   "source": [
    "## Simulation process"
   ]
  },
  {
   "cell_type": "code",
   "execution_count": 5,
   "metadata": {},
   "outputs": [
    {
     "name": "stdout",
     "output_type": "stream",
     "text": [
      "Number of helicases: 4\n",
      "----------------------------------------------------------------------------------------------------\n",
      "Helicases bind to the DNA strand and unwind the double helix at the positions: [0, 235, 446, 699]\n",
      "Leading strand replication process...\n",
      "Helicase unwinds the DNA double helix...\n",
      "The unique primer of each the leading strand is placed at the 5' end of the DNA strand in positions:  [0, 235, 446, 699, 935]\n",
      "----------------------------------------------------------------------------------------------------\n",
      "The ADN polymerase enzyme is added to each primer and begins to synthesize the new DNA strand...\n",
      "The leading strand replication process is complete.\n",
      "----------------------------------------------------------------------------------------------------\n",
      "Lagging strand replication process...\n",
      "The lagging strand is synthesized in fragments called Okazaki fragments.\n",
      "Helicases unwind the DNA double helix at the following positions:  [0, 235, 446, 699, 935]\n",
      "----------------------------------------------------------------------------------------------------\n",
      "Lagging strand replication for Helicase 1\n",
      "The primer has been detected and it starts the replication process from 26 to 0\n",
      "The primer has been detected and it starts the replication process from 52 to 26\n",
      "The primer has been detected and it starts the replication process from 78 to 52\n",
      "The primer has been detected and it starts the replication process from 104 to 78\n",
      "The primer has been detected and it starts the replication process from 130 to 104\n",
      "The primer has been detected and it starts the replication process from 156 to 130\n",
      "The primer has been detected and it starts the replication process from 182 to 156\n",
      "The primer has been detected and it starts the replication process from 208 to 182\n",
      "The primer has been detected and it starts the replication process from 235 to 208\n",
      "----------------------------------------------------------------------------------------------------\n",
      "Lagging strand replication for Helicase 2\n",
      "The primer has been detected and it starts the replication process from 277 to 235\n",
      "The primer has been detected and it starts the replication process from 319 to 277\n",
      "The primer has been detected and it starts the replication process from 361 to 319\n",
      "The primer has been detected and it starts the replication process from 403 to 361\n",
      "The primer has been detected and it starts the replication process from 446 to 403\n",
      "----------------------------------------------------------------------------------------------------\n",
      "Lagging strand replication for Helicase 3\n",
      "The primer has been detected and it starts the replication process from 488 to 446\n",
      "The primer has been detected and it starts the replication process from 530 to 488\n",
      "The primer has been detected and it starts the replication process from 572 to 530\n",
      "The primer has been detected and it starts the replication process from 614 to 572\n",
      "The primer has been detected and it starts the replication process from 656 to 614\n",
      "The primer has been detected and it starts the replication process from 699 to 656\n",
      "----------------------------------------------------------------------------------------------------\n",
      "Lagging strand replication for Helicase 4\n",
      "The primer has been detected and it starts the replication process from 746 to 699\n",
      "The primer has been detected and it starts the replication process from 793 to 746\n",
      "The primer has been detected and it starts the replication process from 840 to 793\n",
      "The primer has been detected and it starts the replication process from 887 to 840\n",
      "The primer has been detected and it starts the replication process from 935 to 887\n",
      "----------------------------------------------------------------------------------------------------\n",
      "Lagging strand's replication process has been completed\n",
      "The replication process is complete.\n"
     ]
    }
   ],
   "source": [
    "replication = Replication()\n",
    "dna_son1, dna_son2 = replication.execute(dna)"
   ]
  },
  {
   "cell_type": "code",
   "execution_count": 6,
   "metadata": {},
   "outputs": [
    {
     "name": "stdout",
     "output_type": "stream",
     "text": [
      "The replication process has been successful.\n"
     ]
    }
   ],
   "source": [
    "DNAUtils = DNAUtils()\n",
    "test1 = DNAUtils.test_dna(dna.strand, dna_son2)\n",
    "test2 = DNAUtils.test_dna(dna.comp, dna_son1)\n",
    "\n",
    "if test1 and test2:\n",
    "    print(\"The replication process has been successful.\")\n",
    "else:\n",
    "    print(\"There's been a mutation in the replication process.\")\n",
    "\n",
    "write_results('./data/son_1.txt', dna_son1)\n",
    "write_results('./data/son_2.txt', dna_son2)"
   ]
  },
  {
   "cell_type": "markdown",
   "metadata": {},
   "source": [
    "## FAlta:\n",
    "- animacion\n",
    "- dejar presentable\n",
    "- readme -> diagrama uml"
   ]
  }
 ],
 "metadata": {
  "kernelspec": {
   "display_name": "piav",
   "language": "python",
   "name": "python3"
  },
  "language_info": {
   "codemirror_mode": {
    "name": "ipython",
    "version": 3
   },
   "file_extension": ".py",
   "mimetype": "text/x-python",
   "name": "python",
   "nbconvert_exporter": "python",
   "pygments_lexer": "ipython3",
   "version": "3.10.9"
  }
 },
 "nbformat": 4,
 "nbformat_minor": 2
}
