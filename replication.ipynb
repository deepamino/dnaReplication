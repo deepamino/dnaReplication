{
 "cells": [
  {
   "cell_type": "markdown",
   "metadata": {},
   "source": [
    "# P01: Replication Process"
   ]
  },
  {
   "cell_type": "code",
   "execution_count": 12,
   "metadata": {},
   "outputs": [],
   "source": [
    "def replication_lagging_strand(dna_seq_comp, index, positions):\n",
    "        global replicated_fragments_lagging, nitro_bases\n",
    "        replication = ''\n",
    "        \n",
    "        for i in range(len(positions)-1):\n",
    "                print(f'The primer has been detected and it starts the replication process from {positions[i+1]} to {positions[i]}')\n",
    "                time.sleep(0.3)\n",
    "                fragment = dna_seq_comp[positions[i]:positions[i+1]]\n",
    "                replicated_fragment = ''\n",
    "                for base in fragment[::-1]:\n",
    "                        replicated_fragment += nitro_bases[base]\n",
    "\n",
    "                replication += replicated_fragment[::-1]\n",
    "        \n",
    "        replicated_fragments_lagging[index] = replication"
   ]
  },
  {
   "cell_type": "code",
   "execution_count": 13,
   "metadata": {},
   "outputs": [],
   "source": [
    "def test_replication(dna_original, dna_replica):\n",
    "    return dna_original == dna_replica"
   ]
  },
  {
   "cell_type": "code",
   "execution_count": 14,
   "metadata": {},
   "outputs": [],
   "source": [
    "def write_results(filename, dna):\n",
    "    with open(filename, 'w') as file:\n",
    "        file.write(dna)"
   ]
  },
  {
   "cell_type": "code",
   "execution_count": 10,
   "metadata": {},
   "outputs": [],
   "source": [
    "def replication_leading_strand(dna_seq, index, start, end):\n",
    "        global replicated_fragments\n",
    "        replication = ''\n",
    "\n",
    "        for base in dna_seq[start:end]:\n",
    "            replication += nitro_bases[base]\n",
    "        \n",
    "        replicated_fragments[index] = replication"
   ]
  },
  {
   "cell_type": "code",
   "execution_count": 11,
   "metadata": {},
   "outputs": [],
   "source": [
    "def okazaki_fragment_positions(helicase_positions, total_helicase, scale):\n",
    "    global primer_positions\n",
    "\n",
    "    for i in range(total_helicase):\n",
    "        lagging_primer_positions = []\n",
    "        fragment_lenght = helicase_positions[i+1] - helicase_positions[i]\n",
    "        num_of_fragments = random.randint(total_helicase, fragment_lenght // scale)\n",
    "        okazaki_length = fragment_lenght // num_of_fragments\n",
    "\n",
    "        for j in range(num_of_fragments):\n",
    "            lagging_primer_positions.append(primer_positions[i] + okazaki_length * j)\n",
    "\n",
    "        lagging_primer_positions.append(helicase_positions[i+1])\n",
    "        yield lagging_primer_positions\n",
    "    "
   ]
  },
  {
   "cell_type": "code",
   "execution_count": 3,
   "metadata": {},
   "outputs": [],
   "source": [
    "import random\n",
    "import time\n",
    "import threading\n",
    "\n"
   ]
  },
  {
   "cell_type": "code",
   "execution_count": 4,
   "metadata": {},
   "outputs": [],
   "source": [
    "nitro_bases = {'A': 'T', 'T': 'A', 'C': 'G', 'G': 'C'}"
   ]
  },
  {
   "cell_type": "markdown",
   "metadata": {},
   "source": [
    "## Dataset"
   ]
  },
  {
   "cell_type": "code",
   "execution_count": 5,
   "metadata": {},
   "outputs": [],
   "source": [
    "dna_seq = \"\"\n",
    "filename = \"./data/Data1.txt\"\n",
    "\n",
    "with open(filename, 'r') as filename:\n",
    "    for line in filename:\n",
    "        dna_seq += line.strip()\n",
    "        break"
   ]
  },
  {
   "cell_type": "markdown",
   "metadata": {},
   "source": [
    "## Generating complementary DNA sequences"
   ]
  },
  {
   "cell_type": "code",
   "execution_count": 6,
   "metadata": {},
   "outputs": [],
   "source": [
    "dna_seq_comp = \"\"\n",
    "\n",
    "for base in dna_seq:\n",
    "    dna_seq_comp += nitro_bases[base]"
   ]
  },
  {
   "cell_type": "code",
   "execution_count": 8,
   "metadata": {},
   "outputs": [],
   "source": [
    "helicase_rate = 0.25\n",
    "total_nucleotides = len(dna_seq)\n",
    "total_helicase = total_nucleotides // int(helicase_rate * total_nucleotides)"
   ]
  },
  {
   "cell_type": "markdown",
   "metadata": {},
   "source": [
    "## Simulation process"
   ]
  },
  {
   "cell_type": "code",
   "execution_count": 18,
   "metadata": {},
   "outputs": [],
   "source": [
    "def replication(total_nucleotides, total_helicase, dna_seq, dna_seq_comp, file_son_1, file_son_2):\n",
    "    global replicated_fragments, replicated_fragments_lagging, helicase_positions, primer_positions\n",
    "    print(\"The total number of nucleotides is: \", total_nucleotides)\n",
    "    print(\"The total number of helicase is: \", total_helicase)\n",
    "    print(\"----------------------------------------------------------------------------------------------------\")\n",
    "    #time.sleep(1)\n",
    "\n",
    "    print(\"Helicases bind to the DNA strand and unwind the double helix at the positions:\", helicase_positions)\n",
    "    #time.sleep(1)\n",
    "\n",
    "    print(\"Leading strand replication process...\")\n",
    "    #time.sleep(1)\n",
    "    primer_positions = helicase_positions\n",
    "    print(\"Helicase unwinds the DNA double helix...\")\n",
    "    print(\"The unique primer of each the leading strand is placed at the 5' end of the DNA strand in positions: \", primer_positions)\n",
    "    print(\"----------------------------------------------------------------------------------------------------\")\n",
    "    print(\"The ADN polymerase enzyme is added to each primer and begins to synthesize the new DNA strand...\")\n",
    "    #time.sleep(3)\n",
    "\n",
    "    replicated_fragments = ['' for i in range(total_helicase)]\n",
    "    for i in range(total_helicase):\n",
    "        if i < total_helicase - 1:\n",
    "            threading.Thread(target=replication_leading_strand, args=(dna_seq, i, primer_positions[i], helicase_positions[i+1])).start()\n",
    "        \n",
    "        else:\n",
    "            threading.Thread(target=replication_leading_strand, args=(dna_seq, i, primer_positions[i], total_nucleotides)).start()\n",
    "\n",
    "    print(\"The leading strand replication process is complete.\")\n",
    "    print(\"----------------------------------------------------------------------------------------------------\")\n",
    "\n",
    "    print(\"Lagging strand replication process...\") \n",
    "    time.sleep(0.75)\n",
    "    print(\"The lagging strand is synthesized in fragments called Okazaki fragments.\")\n",
    "\n",
    "    print(\"Helicases unwind the DNA double helix at the following positions: \", helicase_positions)\n",
    "    print(\"----------------------------------------------------------------------------------------------------\")\n",
    "\n",
    "    replicated_fragments_lagging = [[] for i in range(total_helicase)]\n",
    "    for i,positions in enumerate(okazaki_fragment_positions(helicase_positions, total_helicase, scale)):\n",
    "            print(f'Lagging strand replication for Helicase {i+1}')\n",
    "            replication_lagging_strand(dna_seq_comp, i, positions)\n",
    "            print(\"----------------------------------------------------------------------------------------------------\")\n",
    "\n",
    "    print(\"Lagging strand's replication process has been completed\")\n",
    "\n",
    "    print(\"The replication process is complete.\")\n",
    "    print(\"----------------------------------------------------------------------------------------------------\")\n",
    "\n",
    "    son_1 = test_replication(dna_seq_comp, ''.join(replicated_fragments))\n",
    "    son_2 = test_replication(dna_seq, ''.join(replicated_fragments_lagging))\n",
    "\n",
    "    if son_1 and son_2:\n",
    "        print(\"The replication process has been successful.\")\n",
    "    else:\n",
    "        print(\"There's been a mutation in the replication process.\")\n",
    "\n",
    "    write_results(file_son_1, ''.join(replicated_fragments))\n",
    "    write_results(file_son_2, ''.join(replicated_fragments_lagging))"
   ]
  },
  {
   "cell_type": "code",
   "execution_count": 52,
   "metadata": {},
   "outputs": [],
   "source": []
  },
  {
   "cell_type": "code",
   "execution_count": 53,
   "metadata": {},
   "outputs": [],
   "source": [
    "\n",
    "scale = 20"
   ]
  },
  {
   "cell_type": "code",
   "execution_count": 54,
   "metadata": {},
   "outputs": [],
   "source": [
    "def define_helicases(total_helicase, total_nucleotides):\n",
    "    helicase_positions = [total_nucleotides // total_helicase * i for i in range(1, total_helicase)]\n",
    "    helicase_positions.insert(0, 0)\n",
    "\n",
    "    for i in range(1,total_helicase-1):\n",
    "        rand_value = random.randint(0, 50)\n",
    "        rand_sign = random.randint(1, 2)\n",
    "\n",
    "        helicase_positions[i] += (-1)**rand_sign * rand_value\n",
    "\n",
    "    helicase_positions.append(total_nucleotides)\n",
    "    helicases = []\n",
    "    for i in range(0, len(helicase_positions)-1):\n",
    "        helicases.append(Helicase(helicase_positions[i], helicase_positions[i+1], nitro_bases))\n",
    "    \n",
    "    return helicases"
   ]
  },
  {
   "cell_type": "code",
   "execution_count": 55,
   "metadata": {},
   "outputs": [
    {
     "ename": "AttributeError",
     "evalue": "'Helicase' object has no attribute 'show_helicase'",
     "output_type": "error",
     "traceback": [
      "\u001b[1;31m---------------------------------------------------------------------------\u001b[0m",
      "\u001b[1;31mAttributeError\u001b[0m                            Traceback (most recent call last)",
      "Cell \u001b[1;32mIn[55], line 4\u001b[0m\n\u001b[0;32m      1\u001b[0m helicases \u001b[38;5;241m=\u001b[39m define_helicases(total_helicase, total_nucleotides)\n\u001b[0;32m      3\u001b[0m \u001b[38;5;28;01mfor\u001b[39;00m helicase \u001b[38;5;129;01min\u001b[39;00m helicases:\n\u001b[1;32m----> 4\u001b[0m     \u001b[43mhelicase\u001b[49m\u001b[38;5;241;43m.\u001b[39;49m\u001b[43mshow_helicase\u001b[49m()\n",
      "\u001b[1;31mAttributeError\u001b[0m: 'Helicase' object has no attribute 'show_helicase'"
     ]
    }
   ],
   "source": [
    "helicases = define_helicases(total_helicase, total_nucleotides)\n",
    "\n",
    "for helicase in helicases:\n",
    "    helicase.show_helicase()"
   ]
  },
  {
   "cell_type": "code",
   "execution_count": 56,
   "metadata": {},
   "outputs": [
    {
     "name": "stdout",
     "output_type": "stream",
     "text": [
      "The total number of nucleotides is:  935\n",
      "The total number of helicase is:  4\n",
      "----------------------------------------------------------------------------------------------------\n",
      "Helicases bind to the DNA strand and unwind the double helix at the positions: [0, 261, 500, 699, 935]\n",
      "Leading strand replication process...\n"
     ]
    },
    {
     "ename": "KeyboardInterrupt",
     "evalue": "",
     "output_type": "error",
     "traceback": [
      "\u001b[1;31m---------------------------------------------------------------------------\u001b[0m",
      "\u001b[1;31mKeyboardInterrupt\u001b[0m                         Traceback (most recent call last)",
      "Cell \u001b[1;32mIn[56], line 1\u001b[0m\n\u001b[1;32m----> 1\u001b[0m \u001b[43mreplication\u001b[49m\u001b[43m(\u001b[49m\u001b[43mtotal_nucleotides\u001b[49m\u001b[43m,\u001b[49m\u001b[43m \u001b[49m\u001b[43mtotal_helicase\u001b[49m\u001b[43m,\u001b[49m\u001b[43m \u001b[49m\u001b[43mdna_seq\u001b[49m\u001b[43m,\u001b[49m\u001b[43m \u001b[49m\u001b[43mdna_seq_comp\u001b[49m\u001b[43m,\u001b[49m\u001b[43m \u001b[49m\u001b[38;5;124;43m'\u001b[39;49m\u001b[38;5;124;43m./data/son_1.txt\u001b[39;49m\u001b[38;5;124;43m'\u001b[39;49m\u001b[43m,\u001b[49m\u001b[43m \u001b[49m\u001b[38;5;124;43m'\u001b[39;49m\u001b[38;5;124;43m./data/son_2.txt\u001b[39;49m\u001b[38;5;124;43m'\u001b[39;49m\u001b[43m)\u001b[49m\n",
      "Cell \u001b[1;32mIn[18], line 12\u001b[0m, in \u001b[0;36mreplication\u001b[1;34m(total_nucleotides, total_helicase, dna_seq, dna_seq_comp, file_son_1, file_son_2)\u001b[0m\n\u001b[0;32m      9\u001b[0m time\u001b[38;5;241m.\u001b[39msleep(\u001b[38;5;241m1\u001b[39m)\n\u001b[0;32m     11\u001b[0m \u001b[38;5;28mprint\u001b[39m(\u001b[38;5;124m\"\u001b[39m\u001b[38;5;124mLeading strand replication process...\u001b[39m\u001b[38;5;124m\"\u001b[39m)\n\u001b[1;32m---> 12\u001b[0m \u001b[43mtime\u001b[49m\u001b[38;5;241;43m.\u001b[39;49m\u001b[43msleep\u001b[49m\u001b[43m(\u001b[49m\u001b[38;5;241;43m1\u001b[39;49m\u001b[43m)\u001b[49m\n\u001b[0;32m     13\u001b[0m primer_positions \u001b[38;5;241m=\u001b[39m helicase_positions\n\u001b[0;32m     14\u001b[0m \u001b[38;5;28mprint\u001b[39m(\u001b[38;5;124m\"\u001b[39m\u001b[38;5;124mHelicase unwinds the DNA double helix...\u001b[39m\u001b[38;5;124m\"\u001b[39m)\n",
      "\u001b[1;31mKeyboardInterrupt\u001b[0m: "
     ]
    }
   ],
   "source": [
    "replication(total_nucleotides, total_helicase, dna_seq, dna_seq_comp, './data/son_1.txt', './data/son_2.txt')"
   ]
  },
  {
   "cell_type": "code",
   "execution_count": null,
   "metadata": {},
   "outputs": [],
   "source": []
  },
  {
   "cell_type": "markdown",
   "metadata": {},
   "source": [
    "## desde 0"
   ]
  },
  {
   "cell_type": "code",
   "execution_count": 1,
   "metadata": {},
   "outputs": [],
   "source": [
    "from dna import DNA\n",
    "\n",
    "from helicase import Helicase\n",
    "from replication import Replication"
   ]
  },
  {
   "cell_type": "markdown",
   "metadata": {},
   "source": [
    "### Lectura de la cadena de ADN"
   ]
  },
  {
   "cell_type": "code",
   "execution_count": 2,
   "metadata": {},
   "outputs": [],
   "source": [
    "dna_seq = \"\"\n",
    "filename = \"./data/Data1.txt\"\n",
    "\n",
    "with open(filename, 'r') as filename:\n",
    "    for line in filename:\n",
    "        dna_seq += line.strip()\n",
    "        break"
   ]
  },
  {
   "cell_type": "code",
   "execution_count": 3,
   "metadata": {},
   "outputs": [],
   "source": [
    "dna = DNA(dna_seq)"
   ]
  },
  {
   "cell_type": "code",
   "execution_count": 4,
   "metadata": {},
   "outputs": [],
   "source": [
    "replication = Replication()\n",
    "dna_son1, dna_son2 = replication.execute(dna)"
   ]
  },
  {
   "cell_type": "code",
   "execution_count": 5,
   "metadata": {},
   "outputs": [
    {
     "data": {
      "text/plain": [
       "'TGCGTTGTGCGTTGATCGTTCTTGCATAAGGGCTGCGTTGAAGGGCTGCGTTGTGCGTTGCTTGCATATCGTTAAGGGCTGCGTTGATCGTTCTTGCATATCGTTAAGGGCTAACAGCTTGCATCTTGCATTGCGTTGTGCGTTGTGCGTTGCTTGCATATCGTTAAGGGCCTTGCATTAACAGTAACAGAAGGGCCTTGCATTAACAGAAGGGCTAACAGTAACAGCTTGCATAAGGGCCTTGCATTGCGTTGAAGGGCTGCGTTGCTTGCATTGCGTTGAAGGGCCTTGCATTAACAGATCGTTATCGTTTGCGTTGATCGTTTGCGTTGAAGGGCTGCGTTGCTTGCATCTTGCATATCGTTATCGTTCTTGCATTAACAGTAACAGTGCGTTGTGCGTTGATCGTTCTTGCATATCGTTCTTGCATCTTGCATATCGTTCTTGCATTGCGTTGCTTGCATATCGTTTGCGTTGAAGGGCTAACAGTGCGTTGTAACAGTAACAGATCGTTAAGGGCTAACAGCTTGCATATCGTTATCGTTTGCGTTGTAACAGTAACAGATCGTTTGCGTTGATCGTTTGCGTTGCTTGCATTAACAGATCGTTAAGGGCTAACAGAAGGGCAAGGGCCTTGCATTAACAGCTTGCATATCGTTATCGTTCTTGCATTAACAGTAACAGATCGTTATCGTTCTTGCATATCGTTCTTGCATAAGGGCTGCGTTGCTTGCATTGCGTTGAAGGGCAAGGGCTGCGTTGTAACAGCTTGCATTAACAGTAACAGCTTGCATATCGTTATCGTTATCGTTTAACAGCTTGCATCTTGCATCTTGCATCTTGCATAAGGGCAAGGGCTGCGTTGTGCGTTGATCGTTTGCGTTGAAGGGCAAGGGCATCGTTCTTGCATTGCGTTGATCGTTATCGTTTAACAG'"
      ]
     },
     "execution_count": 5,
     "metadata": {},
     "output_type": "execute_result"
    }
   ],
   "source": [
    "print(dna_son1)"
   ]
  },
  {
   "cell_type": "code",
   "execution_count": 5,
   "metadata": {},
   "outputs": [
    {
     "name": "stdout",
     "output_type": "stream",
     "text": [
      "ACGCAACACGCAACTAGCAAGAACGTATTCCCGACGCAACTTCCCGACGCAACACGCAACGAACGTATAGCAATTCCCGACGCAACTAGCAAGAACGTATAGCAATTCCCGATTGTCGAACGTAGAACGTAACGCAACACGCAACACGCAACGAACGTATAGCAATTCCCGGAACGTAATTGTCATTGTCTTCCCGGAACGTAATTGTCTTCCCGATTGTCATTGTCGAACGTATTCCCGGAACGTAACGCAACTTCCCGACGCAACGAACGTAACGCAACTTCCCGGAACGTAATTGTCTAGCAATAGCAAACGCAACTAGCAAACGCAACTTCCCGACGCAACGAACGTAGAACGTATAGCAATAGCAAGAACGTAATTGTCATTGTCACGCAACACGCAACTAGCAAGAACGTATAGCAAGAACGTAGAACGTATAGCAAGAACGTAACGCAACGAACGTATAGCAAACGCAACTTCCCGATTGTCACGCAACATTGTCATTGTCTAGCAATTCCCGATTGTCGAACGTATAGCAATAGCAAACGCAACATTGTCATTGTCTAGCAAACGCAACTAGCAAACGCAACGAACGTAATTGTCTAGCAATTCCCGATTGTCTTCCCGTTCCCGGAACGTAATTGTCGAACGTATAGCAATAGCAAGAACGTAATTGTCATTGTCTAGCAATAGCAAGAACGTATAGCAAGAACGTATTCCCGACGCAACGAACGTAACGCAACTTCCCGTTCCCGACGCAACATTGTCGAACGTAATTGTCATTGTCGAACGTATAGCAATAGCAATAGCAAATTGTCGAACGTAGAACGTAGAACGTAGAACGTATTCCCGTTCCCGACGCAACACGCAACTAGCAAACGCAACTTCCCGTTCCCGTAGCAAGAACGTAACGCAACTAGCAATAGCAAATTGTC\n"
     ]
    }
   ],
   "source": [
    "print(dna.strand)"
   ]
  },
  {
   "cell_type": "code",
   "execution_count": 6,
   "metadata": {},
   "outputs": [
    {
     "name": "stdout",
     "output_type": "stream",
     "text": [
      "True\n"
     ]
    }
   ],
   "source": [
    "print(dna_son2 == dna.strand)"
   ]
  },
  {
   "cell_type": "code",
   "execution_count": 7,
   "metadata": {},
   "outputs": [
    {
     "name": "stdout",
     "output_type": "stream",
     "text": [
      "True\n"
     ]
    }
   ],
   "source": [
    "print(dna_son1 == dna.comp)"
   ]
  },
  {
   "cell_type": "markdown",
   "metadata": {},
   "source": [
    "## FAlta:\n",
    "- animacion\n",
    "- prints\n",
    "- dejar presentable\n",
    "- readme -> diagrama uml"
   ]
  },
  {
   "cell_type": "code",
   "execution_count": null,
   "metadata": {},
   "outputs": [],
   "source": []
  }
 ],
 "metadata": {
  "kernelspec": {
   "display_name": "piav",
   "language": "python",
   "name": "python3"
  },
  "language_info": {
   "codemirror_mode": {
    "name": "ipython",
    "version": 3
   },
   "file_extension": ".py",
   "mimetype": "text/x-python",
   "name": "python",
   "nbconvert_exporter": "python",
   "pygments_lexer": "ipython3",
   "version": "3.10.9"
  }
 },
 "nbformat": 4,
 "nbformat_minor": 2
}
