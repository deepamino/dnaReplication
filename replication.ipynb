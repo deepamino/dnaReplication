{
 "cells": [
  {
   "cell_type": "markdown",
   "metadata": {},
   "source": [
    "# P01: Replication Process"
   ]
  },
  {
   "cell_type": "code",
   "execution_count": 137,
   "metadata": {},
   "outputs": [],
   "source": [
    "import random\n",
    "import time\n",
    "import threading\n",
    "\n",
    "from polymerase import Polymerase"
   ]
  },
  {
   "cell_type": "code",
   "execution_count": 138,
   "metadata": {},
   "outputs": [],
   "source": [
    "nitro_bases = {'A': 'T', 'T': 'A', 'C': 'G', 'G': 'C'}"
   ]
  },
  {
   "cell_type": "markdown",
   "metadata": {},
   "source": [
    "## Dataset"
   ]
  },
  {
   "cell_type": "code",
   "execution_count": 139,
   "metadata": {},
   "outputs": [],
   "source": [
    "dna_seq = \"\"\n",
    "filename = \"./data/Data1.txt\"\n",
    "\n",
    "with open(filename, 'r') as filename:\n",
    "    for line in filename:\n",
    "        dna_seq += line.strip()\n",
    "        break"
   ]
  },
  {
   "cell_type": "markdown",
   "metadata": {},
   "source": [
    "## Generating complementary DNA sequences"
   ]
  },
  {
   "cell_type": "code",
   "execution_count": 140,
   "metadata": {},
   "outputs": [],
   "source": [
    "dna_seq_comp = \"\"\n",
    "\n",
    "for base in dna_seq:\n",
    "    dna_seq_comp += nitro_bases[base]"
   ]
  },
  {
   "cell_type": "code",
   "execution_count": 141,
   "metadata": {},
   "outputs": [
    {
     "name": "stdout",
     "output_type": "stream",
     "text": [
      "935\n",
      "935\n"
     ]
    }
   ],
   "source": [
    "print(len(dna_seq_comp))\n",
    "print(len(dna_seq))"
   ]
  },
  {
   "cell_type": "code",
   "execution_count": 142,
   "metadata": {},
   "outputs": [],
   "source": [
    "helicase_rate = 0.25\n",
    "total_nucleotides = len(dna_seq)\n",
    "total_helicase = total_nucleotides // int(helicase_rate * total_nucleotides)"
   ]
  },
  {
   "cell_type": "markdown",
   "metadata": {},
   "source": [
    "## Simulation process"
   ]
  },
  {
   "cell_type": "code",
   "execution_count": 143,
   "metadata": {},
   "outputs": [
    {
     "name": "stdout",
     "output_type": "stream",
     "text": [
      "[224, 432, 700]\n"
     ]
    }
   ],
   "source": [
    "helicase_positions = [total_nucleotides // total_helicase * i for i in range(1, total_helicase)]\n",
    "for i in range(total_helicase - 1):\n",
    "    rand_value = random.randint(0, 50)\n",
    "    rand_sign = random.randint(1, 2)\n",
    "    helicase_positions[i] += (-1)**rand_sign * rand_value\n",
    "\n",
    "print(helicase_positions)"
   ]
  },
  {
   "cell_type": "code",
   "execution_count": 144,
   "metadata": {},
   "outputs": [],
   "source": [
    "helicase_positions.insert(0, 0)"
   ]
  },
  {
   "cell_type": "code",
   "execution_count": 145,
   "metadata": {},
   "outputs": [],
   "source": [
    "def replication_leading_strand(dna_seq, index, start, end):\n",
    "        global replicated_fragments\n",
    "        replication = ''\n",
    "\n",
    "        for base in dna_seq[start:end]:\n",
    "            replication += nitro_bases[base]\n",
    "        \n",
    "        replicated_fragments[index] = replication"
   ]
  },
  {
   "cell_type": "code",
   "execution_count": 146,
   "metadata": {},
   "outputs": [
    {
     "name": "stdout",
     "output_type": "stream",
     "text": [
      "The total number of nucleotides is:  935\n",
      "The total number of helicase is:  4\n",
      "----------------------------------------------------------------------------------------------------\n",
      "Helicases bind to the DNA strand and unwind the double helix at the positions: [0, 224, 432, 700]\n",
      "Leading strand replication process...\n",
      "Helicase unwinds the DNA double helix...\n",
      "The unique primer of each the leading strand is placed at the 5' end of the DNA strand in positions:  [0, 224, 432, 700]\n",
      "----------------------------------------------------------------------------------------------------\n",
      "The ADN polymerase enzyme is added to each primer and begins to synthesize the new DNA strand...\n",
      "The leading strand replication process is complete.\n",
      "----------------------------------------------------------------------------------------------------\n",
      "Lagging strand replication process...\n",
      "The lagging strand is synthesized in fragments called Okazaki fragments.\n"
     ]
    }
   ],
   "source": [
    "\n",
    "print(\"The total number of nucleotides is: \", total_nucleotides)\n",
    "print(\"The total number of helicase is: \", total_helicase)\n",
    "print(\"----------------------------------------------------------------------------------------------------\")\n",
    "time.sleep(2)\n",
    "\n",
    "print(\"Helicases bind to the DNA strand and unwind the double helix at the positions:\", helicase_positions)\n",
    "time.sleep(2)\n",
    "\n",
    "print(\"Leading strand replication process...\")\n",
    "time.sleep(1)\n",
    "primer_positions = helicase_positions\n",
    "print(\"Helicase unwinds the DNA double helix...\")\n",
    "print(\"The unique primer of each the leading strand is placed at the 5' end of the DNA strand in positions: \", primer_positions)\n",
    "print(\"----------------------------------------------------------------------------------------------------\")\n",
    "print(\"The ADN polymerase enzyme is added to each primer and begins to synthesize the new DNA strand...\")\n",
    "time.sleep(5)\n",
    "\n",
    "replicated_fragments = ['' for i in range(total_helicase)]\n",
    "for i in range(total_helicase):\n",
    "    if i < total_helicase - 1:\n",
    "        threading.Thread(target=replication_leading_strand, args=(dna_seq, i, primer_positions[i], helicase_positions[i+1])).start()\n",
    "    \n",
    "    else:\n",
    "        threading.Thread(target=replication_leading_strand, args=(dna_seq, i, primer_positions[i], total_nucleotides)).start()\n",
    "\n",
    "print(\"The leading strand replication process is complete.\")\n",
    "print(\"----------------------------------------------------------------------------------------------------\")\n",
    "\n",
    "print(\"Lagging strand replication process...\") \n",
    "time.sleep(1)\n",
    "print(\"The lagging strand is synthesized in fragments called Okazaki fragments.\")"
   ]
  },
  {
   "cell_type": "code",
   "execution_count": 147,
   "metadata": {},
   "outputs": [],
   "source": [
    "helicase_positions.append(total_nucleotides)\n",
    "scale = 20\n",
    "\n",
    "def okazaki_fragment_positions(helicase_positions, total_helicase, scale):\n",
    "    for i in range(total_helicase):\n",
    "        lagging_primer_positions = []\n",
    "        fragment_lenght = helicase_positions[i+1] - helicase_positions[i]\n",
    "        num_of_fragments = random.randint(total_helicase, fragment_lenght // scale)\n",
    "        okazaki_length = fragment_lenght // num_of_fragments\n",
    "\n",
    "        for j in range(num_of_fragments):\n",
    "            lagging_primer_positions.append(primer_positions[i] + okazaki_length * j)\n",
    "\n",
    "        lagging_primer_positions.append(helicase_positions[i+1])\n",
    "        yield lagging_primer_positions\n",
    "    "
   ]
  },
  {
   "cell_type": "code",
   "execution_count": 212,
   "metadata": {},
   "outputs": [],
   "source": [
    "def replication_lagging_strand(dna_seq_comp, index, positions):\n",
    "        global replicated_fragments, nitro_bases\n",
    "        replication = ''\n",
    "        \n",
    "        for i in range(len(positions)-1):\n",
    "                fragment = dna_seq_comp[positions[i]:positions[i+1]]\n",
    "                replicated_fragment = ''\n",
    "                for base in fragment[::-1]:\n",
    "                        replicated_fragment += nitro_bases[base]\n",
    "\n",
    "                replication += replicated_fragment[::-1]\n",
    "        \n",
    "        replicated_fragments[index] = replication\n",
    "\n",
    "        "
   ]
  },
  {
   "cell_type": "code",
   "execution_count": 213,
   "metadata": {},
   "outputs": [],
   "source": [
    "replicated_fragments = [[] for i in range(total_helicase)]"
   ]
  },
  {
   "cell_type": "code",
   "execution_count": 214,
   "metadata": {},
   "outputs": [],
   "source": [
    "for i,positions in enumerate(okazaki_fragment_positions(helicase_positions, total_helicase, scale)):\n",
    "        \n",
    "        replication_lagging_strand(dna_seq_comp, i, positions)"
   ]
  },
  {
   "cell_type": "code",
   "execution_count": 215,
   "metadata": {},
   "outputs": [
    {
     "data": {
      "text/plain": [
       "'ACGCAACACGCAACTAGCAAGAACGTATTCCCGACGCAACTTCCCGACGCAACACGCAACGAACGTATAGCAATTCCCGACGCAACTAGCAAGAACGTATAGCAATTCCCGATTGTCGAACGTAGAACGTAACGCAACACGCAACACGCAACGAACGTATAGCAATTCCCGGAACGTAATTGTCATTGTCTTCCCGGAACGTAATTGTCTTCCCGATTGTCATT'"
      ]
     },
     "execution_count": 215,
     "metadata": {},
     "output_type": "execute_result"
    }
   ],
   "source": [
    "replicated_fragments[0]"
   ]
  },
  {
   "cell_type": "code",
   "execution_count": 216,
   "metadata": {},
   "outputs": [
    {
     "data": {
      "text/plain": [
       "'TGCGTTGTGCGTTGATCGTTCTTGCATAAGGGCTGCGTTGAAGGGCTGCGTTGTGCGTTGCTTGCATATCGTTAAGGGCTGCGTTGATCGTTCTTGCATATCGTTAAGGGCTAACAGCTTGCATCTTGCATTGCGTTGTGCGTTGTGCGTTGCTTGCATATCGTTAAGGGCCTTGCATTAACAGTAACAGAAGGGCCTTGCATTAACAGAAGGGCTAACAGTAACAGCTTGCATAAGGGCCTTGCATTGCGTTGAAGGGCTGCGTTGCTTGCATTGCGTTGAAGGGCCTTGCATTAACAGATCGTTATCGTTTGCGTTGATCGTTTGCGTTGAAGGGCTGCGTTGCTTGCATCTTGCATATCGTTATCGTTCTTGCATTAACAGTAACAGTGCGTTGTGCGTTGATCGTTCTTGCATATCGTTCTTGCATCTTGCATATCGTTCTTGCATTGCGTTGCTTGCATATCGTTTGCGTTGAAGGGCTAACAGTGCGTTGTAACAGTAACAGATCGTTAAGGGCTAACAGCTTGCATATCGTTATCGTTTGCGTTGTAACAGTAACAGATCGTTTGCGTTGATCGTTTGCGTTGCTTGCATTAACAGATCGTTAAGGGCTAACAGAAGGGCAAGGGCCTTGCATTAACAGCTTGCATATCGTTATCGTTCTTGCATTAACAGTAACAGATCGTTATCGTTCTTGCATATCGTTCTTGCATAAGGGCTGCGTTGCTTGCATTGCGTTGAAGGGCAAGGGCTGCGTTGTAACAGCTTGCATTAACAGTAACAGCTTGCATATCGTTATCGTTATCGTTTAACAGCTTGCATCTTGCATCTTGCATCTTGCATAAGGGCAAGGGCTGCGTTGTGCGTTGATCGTTTGCGTTGAAGGGCAAGGGCATCGTTCTTGCATTGCGTTGATCGTTATCGTTTAACAG'"
      ]
     },
     "execution_count": 216,
     "metadata": {},
     "output_type": "execute_result"
    }
   ],
   "source": [
    "dna_seq_comp"
   ]
  },
  {
   "cell_type": "code",
   "execution_count": 217,
   "metadata": {},
   "outputs": [],
   "source": [
    "def test_replication(dna_original, dna_replica):\n",
    "    return dna_original == dna_replica"
   ]
  },
  {
   "cell_type": "code",
   "execution_count": 226,
   "metadata": {},
   "outputs": [
    {
     "data": {
      "text/plain": [
       "True"
      ]
     },
     "execution_count": 226,
     "metadata": {},
     "output_type": "execute_result"
    }
   ],
   "source": [
    "test_replication(dna_seq, ''.join(replicated_fragments))"
   ]
  },
  {
   "cell_type": "markdown",
   "metadata": {},
   "source": [
    "Falta:\n",
    "- Dejarlo bonito\n",
    "- Dataset\n"
   ]
  }
 ],
 "metadata": {
  "kernelspec": {
   "display_name": "piav",
   "language": "python",
   "name": "python3"
  },
  "language_info": {
   "codemirror_mode": {
    "name": "ipython",
    "version": 3
   },
   "file_extension": ".py",
   "mimetype": "text/x-python",
   "name": "python",
   "nbconvert_exporter": "python",
   "pygments_lexer": "ipython3",
   "version": "3.10.14"
  }
 },
 "nbformat": 4,
 "nbformat_minor": 2
}
