{
 "cells": [
  {
   "cell_type": "markdown",
   "metadata": {},
   "source": [
    "# P01: Replication Process"
   ]
  },
  {
   "cell_type": "code",
   "execution_count": 102,
   "metadata": {},
   "outputs": [],
   "source": [
    "def replication_leading_strand(dna_seq, index, start, end):\n",
    "        global replicated_fragments\n",
    "        replication = ''\n",
    "\n",
    "        for base in dna_seq[start:end]:\n",
    "            replication += nitro_bases[base]\n",
    "        \n",
    "        replicated_fragments[index] = replication"
   ]
  },
  {
   "cell_type": "code",
   "execution_count": 103,
   "metadata": {},
   "outputs": [],
   "source": [
    "helicase_positions.append(total_nucleotides)\n",
    "scale = 20\n",
    "\n",
    "def okazaki_fragment_positions(helicase_positions, total_helicase, scale):\n",
    "    global primer_positions\n",
    "\n",
    "    for i in range(total_helicase):\n",
    "        lagging_primer_positions = []\n",
    "        fragment_lenght = helicase_positions[i+1] - helicase_positions[i]\n",
    "        num_of_fragments = random.randint(total_helicase, fragment_lenght // scale)\n",
    "        okazaki_length = fragment_lenght // num_of_fragments\n",
    "\n",
    "        for j in range(num_of_fragments):\n",
    "            lagging_primer_positions.append(primer_positions[i] + okazaki_length * j)\n",
    "\n",
    "        lagging_primer_positions.append(helicase_positions[i+1])\n",
    "        yield lagging_primer_positions\n",
    "    "
   ]
  },
  {
   "cell_type": "code",
   "execution_count": 104,
   "metadata": {},
   "outputs": [],
   "source": [
    "def replication_lagging_strand(dna_seq_comp, index, positions):\n",
    "        global replicated_fragments_lagging, nitro_bases\n",
    "        replication = ''\n",
    "        \n",
    "        for i in range(len(positions)-1):\n",
    "                print(f'The primer has been detected and it starts the replication process from {positions[i+1]} to {positions[i]}')\n",
    "                time.sleep(0.3)\n",
    "                fragment = dna_seq_comp[positions[i]:positions[i+1]]\n",
    "                replicated_fragment = ''\n",
    "                for base in fragment[::-1]:\n",
    "                        replicated_fragment += nitro_bases[base]\n",
    "\n",
    "                replication += replicated_fragment[::-1]\n",
    "        \n",
    "        replicated_fragments_lagging[index] = replication"
   ]
  },
  {
   "cell_type": "code",
   "execution_count": 105,
   "metadata": {},
   "outputs": [],
   "source": [
    "def test_replication(dna_original, dna_replica):\n",
    "    return dna_original == dna_replica"
   ]
  },
  {
   "cell_type": "code",
   "execution_count": 106,
   "metadata": {},
   "outputs": [],
   "source": [
    "def write_results(filename, dna):\n",
    "    with open(filename, 'w') as file:\n",
    "        file.write(dna)"
   ]
  },
  {
   "cell_type": "code",
   "execution_count": 107,
   "metadata": {},
   "outputs": [],
   "source": [
    "def replication(total_nucleotides, total_helicase, dna_seq, dna_seq_comp, file_son_1, file_son_2):\n",
    "    global replicated_fragments, replicated_fragments_lagging\n",
    "    print(\"The total number of nucleotides is: \", total_nucleotides)\n",
    "    print(\"The total number of helicase is: \", total_helicase)\n",
    "    print(\"----------------------------------------------------------------------------------------------------\")\n",
    "    time.sleep(1)\n",
    "\n",
    "    print(\"Helicases bind to the DNA strand and unwind the double helix at the positions:\", helicase_positions)\n",
    "    time.sleep(1)\n",
    "\n",
    "    print(\"Leading strand replication process...\")\n",
    "    time.sleep(1)\n",
    "    primer_positions = helicase_positions\n",
    "    print(\"Helicase unwinds the DNA double helix...\")\n",
    "    print(\"The unique primer of each the leading strand is placed at the 5' end of the DNA strand in positions: \", primer_positions)\n",
    "    print(\"----------------------------------------------------------------------------------------------------\")\n",
    "    print(\"The ADN polymerase enzyme is added to each primer and begins to synthesize the new DNA strand...\")\n",
    "    time.sleep(3)\n",
    "\n",
    "    replicated_fragments = ['' for i in range(total_helicase)]\n",
    "    for i in range(total_helicase):\n",
    "        if i < total_helicase - 1:\n",
    "            threading.Thread(target=replication_leading_strand, args=(dna_seq, i, primer_positions[i], helicase_positions[i+1])).start()\n",
    "        \n",
    "        else:\n",
    "            threading.Thread(target=replication_leading_strand, args=(dna_seq, i, primer_positions[i], total_nucleotides)).start()\n",
    "\n",
    "    print(\"The leading strand replication process is complete.\")\n",
    "    print(\"----------------------------------------------------------------------------------------------------\")\n",
    "\n",
    "    print(\"Lagging strand replication process...\") \n",
    "    time.sleep(0.75)\n",
    "    print(\"The lagging strand is synthesized in fragments called Okazaki fragments.\")\n",
    "\n",
    "    print(\"Helicases unwind the DNA double helix at the following positions: \", helicase_positions)\n",
    "    print(\"----------------------------------------------------------------------------------------------------\")\n",
    "\n",
    "    replicated_fragments_lagging = [[] for i in range(total_helicase)]\n",
    "    for i,positions in enumerate(okazaki_fragment_positions(helicase_positions, total_helicase, scale)):\n",
    "            print(f'Lagging strand replication for Helicase {i+1}')\n",
    "            replication_lagging_strand(dna_seq_comp, i, positions)\n",
    "            print(\"----------------------------------------------------------------------------------------------------\")\n",
    "\n",
    "    print(\"Lagging strand's replication process has been completed\")\n",
    "\n",
    "    print(\"The replication process is complete.\")\n",
    "    print(\"----------------------------------------------------------------------------------------------------\")\n",
    "\n",
    "    son_1 = test_replication(dna_seq_comp, ''.join(replicated_fragments))\n",
    "    son_2 = test_replication(dna_seq, ''.join(replicated_fragments_lagging))\n",
    "\n",
    "    if son_1 and son_2:\n",
    "        print(\"The replication process has been successful.\")\n",
    "    else:\n",
    "        print(\"There's been a mutation in the replication process.\")\n",
    "\n",
    "    write_results(file_son_1, ''.join(replicated_fragments))\n",
    "    write_results(file_son_2, ''.join(replicated_fragments_lagging))"
   ]
  },
  {
   "cell_type": "code",
   "execution_count": 101,
   "metadata": {},
   "outputs": [
    {
     "name": "stdout",
     "output_type": "stream",
     "text": [
      "The total number of nucleotides is:  935\n",
      "The total number of helicase is:  4\n",
      "----------------------------------------------------------------------------------------------------\n",
      "Helicases bind to the DNA strand and unwind the double helix at the positions: [0, 260, 496, 663, 935, 935]\n",
      "Leading strand replication process...\n",
      "Helicase unwinds the DNA double helix...\n",
      "The unique primer of each the leading strand is placed at the 5' end of the DNA strand in positions:  [0, 260, 496, 663, 935, 935]\n",
      "----------------------------------------------------------------------------------------------------\n",
      "The ADN polymerase enzyme is added to each primer and begins to synthesize the new DNA strand...\n"
     ]
    }
   ],
   "source": [
    "replication(total_nucleotides, total_helicase, dna_seq, dna_seq_comp, './data/son_1.txt', './data/son_2.txt')"
   ]
  },
  {
   "cell_type": "code",
   "execution_count": 48,
   "metadata": {},
   "outputs": [],
   "source": [
    "import random\n",
    "import time\n",
    "import threading\n",
    "\n",
    "from polymerase import Polymerase"
   ]
  },
  {
   "cell_type": "code",
   "execution_count": 49,
   "metadata": {},
   "outputs": [],
   "source": [
    "nitro_bases = {'A': 'T', 'T': 'A', 'C': 'G', 'G': 'C'}"
   ]
  },
  {
   "cell_type": "markdown",
   "metadata": {},
   "source": [
    "## Dataset"
   ]
  },
  {
   "cell_type": "code",
   "execution_count": 50,
   "metadata": {},
   "outputs": [],
   "source": [
    "dna_seq = \"\"\n",
    "filename = \"./data/Data1.txt\"\n",
    "\n",
    "with open(filename, 'r') as filename:\n",
    "    for line in filename:\n",
    "        dna_seq += line.strip()\n",
    "        break"
   ]
  },
  {
   "cell_type": "markdown",
   "metadata": {},
   "source": [
    "## Generating complementary DNA sequences"
   ]
  },
  {
   "cell_type": "code",
   "execution_count": 51,
   "metadata": {},
   "outputs": [],
   "source": [
    "dna_seq_comp = \"\"\n",
    "\n",
    "for base in dna_seq:\n",
    "    dna_seq_comp += nitro_bases[base]"
   ]
  },
  {
   "cell_type": "code",
   "execution_count": 52,
   "metadata": {},
   "outputs": [],
   "source": [
    "print(len(dna_seq_comp))\n",
    "print(len(dna_seq))"
   ]
  },
  {
   "cell_type": "code",
   "execution_count": 53,
   "metadata": {},
   "outputs": [],
   "source": [
    "helicase_rate = 0.25\n",
    "total_nucleotides = len(dna_seq)\n",
    "total_helicase = total_nucleotides // int(helicase_rate * total_nucleotides)"
   ]
  },
  {
   "cell_type": "markdown",
   "metadata": {},
   "source": [
    "## Simulation process"
   ]
  },
  {
   "cell_type": "code",
   "execution_count": 54,
   "metadata": {},
   "outputs": [],
   "source": [
    "helicase_positions = [total_nucleotides // total_helicase * i for i in range(1, total_helicase)]\n",
    "for i in range(total_helicase - 1):\n",
    "    rand_value = random.randint(0, 50)\n",
    "    rand_sign = random.randint(1, 2)\n",
    "    helicase_positions[i] += (-1)**rand_sign * rand_value\n",
    "\n",
    "helicase_positions.insert(0, 0)\n",
    "print(helicase_positions)"
   ]
  },
  {
   "cell_type": "markdown",
   "metadata": {},
   "source": [
    "Falta:\n",
    "- Dejarlo bonito\n",
    "- Dataset\n"
   ]
  }
 ],
 "metadata": {
  "kernelspec": {
   "display_name": "piav",
   "language": "python",
   "name": "python3"
  },
  "language_info": {
   "codemirror_mode": {
    "name": "ipython",
    "version": 3
   },
   "file_extension": ".py",
   "mimetype": "text/x-python",
   "name": "python",
   "nbconvert_exporter": "python",
   "pygments_lexer": "ipython3",
   "version": "3.10.9"
  }
 },
 "nbformat": 4,
 "nbformat_minor": 2
}
