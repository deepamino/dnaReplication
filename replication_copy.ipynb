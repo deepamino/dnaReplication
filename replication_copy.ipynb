{
 "cells": [
  {
   "cell_type": "markdown",
   "metadata": {},
   "source": [
    "# P01: Replication Process"
   ]
  },
  {
   "cell_type": "code",
   "execution_count": 4,
   "metadata": {},
   "outputs": [],
   "source": [
    "import random\n",
    "import time\n",
    "import threading"
   ]
  },
  {
   "cell_type": "code",
   "execution_count": 5,
   "metadata": {},
   "outputs": [],
   "source": [
    "nitro_bases = {'A': 'T', 'T': 'A', 'C': 'G', 'G': 'C'}"
   ]
  },
  {
   "cell_type": "markdown",
   "metadata": {},
   "source": [
    "## Dataset"
   ]
  },
  {
   "cell_type": "code",
   "execution_count": 6,
   "metadata": {},
   "outputs": [],
   "source": [
    "dna_seq = \"\"\n",
    "filename = \"./data/Data1.txt\"\n",
    "\n",
    "with open(filename, 'r') as filename:\n",
    "    for line in filename:\n",
    "        dna_seq += line.strip()\n",
    "        break"
   ]
  },
  {
   "cell_type": "markdown",
   "metadata": {},
   "source": [
    "## Generating complementary DNA sequences"
   ]
  },
  {
   "cell_type": "code",
   "execution_count": 3,
   "metadata": {},
   "outputs": [
    {
     "ename": "NameError",
     "evalue": "name 'nitro_bases' is not defined",
     "output_type": "error",
     "traceback": [
      "\u001b[1;31m---------------------------------------------------------------------------\u001b[0m",
      "\u001b[1;31mNameError\u001b[0m                                 Traceback (most recent call last)",
      "Cell \u001b[1;32mIn[3], line 4\u001b[0m\n\u001b[0;32m      1\u001b[0m dna_seq_comp \u001b[38;5;241m=\u001b[39m \u001b[38;5;124m\"\u001b[39m\u001b[38;5;124m\"\u001b[39m\n\u001b[0;32m      3\u001b[0m \u001b[38;5;28;01mfor\u001b[39;00m base \u001b[38;5;129;01min\u001b[39;00m dna_seq:\n\u001b[1;32m----> 4\u001b[0m     dna_seq_comp \u001b[38;5;241m+\u001b[39m\u001b[38;5;241m=\u001b[39m \u001b[43mnitro_bases\u001b[49m[base]\n",
      "\u001b[1;31mNameError\u001b[0m: name 'nitro_bases' is not defined"
     ]
    }
   ],
   "source": [
    "dna_seq_comp = \"\"\n",
    "\n",
    "for base in dna_seq:\n",
    "    dna_seq_comp += nitro_bases[base]"
   ]
  },
  {
   "cell_type": "code",
   "execution_count": 8,
   "metadata": {},
   "outputs": [],
   "source": [
    "helicase_rate = 0.25\n",
    "total_nucleotides = len(dna_seq)\n",
    "total_helicase = total_nucleotides // int(helicase_rate * total_nucleotides)"
   ]
  },
  {
   "cell_type": "markdown",
   "metadata": {},
   "source": [
    "## Simulation process"
   ]
  },
  {
   "cell_type": "code",
   "execution_count": 18,
   "metadata": {},
   "outputs": [],
   "source": [
    "def replication(total_nucleotides, total_helicase, dna_seq, dna_seq_comp, file_son_1, file_son_2):\n",
    "    global replicated_fragments, replicated_fragments_lagging, helicase_positions, primer_positions\n",
    "    print(\"The total number of nucleotides is: \", total_nucleotides)\n",
    "    print(\"The total number of helicase is: \", total_helicase)\n",
    "    print(\"----------------------------------------------------------------------------------------------------\")\n",
    "    #time.sleep(1)\n",
    "\n",
    "    print(\"Helicases bind to the DNA strand and unwind the double helix at the positions:\", helicase_positions)\n",
    "    #time.sleep(1)\n",
    "\n",
    "    print(\"Leading strand replication process...\")\n",
    "    #time.sleep(1)\n",
    "    primer_positions = helicase_positions\n",
    "    print(\"Helicase unwinds the DNA double helix...\")\n",
    "    print(\"The unique primer of each the leading strand is placed at the 5' end of the DNA strand in positions: \", primer_positions)\n",
    "    print(\"----------------------------------------------------------------------------------------------------\")\n",
    "    print(\"The ADN polymerase enzyme is added to each primer and begins to synthesize the new DNA strand...\")\n",
    "    #time.sleep(3)\n",
    "\n",
    "    replicated_fragments = ['' for i in range(total_helicase)]\n",
    "    for i in range(total_helicase):\n",
    "        if i < total_helicase - 1:\n",
    "            threading.Thread(target=replication_leading_strand, args=(dna_seq, i, primer_positions[i], helicase_positions[i+1])).start()\n",
    "        \n",
    "        else:\n",
    "            threading.Thread(target=replication_leading_strand, args=(dna_seq, i, primer_positions[i], total_nucleotides)).start()\n",
    "\n",
    "    print(\"The leading strand replication process is complete.\")\n",
    "    print(\"----------------------------------------------------------------------------------------------------\")\n",
    "\n",
    "    print(\"Lagging strand replication process...\") \n",
    "    time.sleep(0.75)\n",
    "    print(\"The lagging strand is synthesized in fragments called Okazaki fragments.\")\n",
    "\n",
    "    print(\"Helicases unwind the DNA double helix at the following positions: \", helicase_positions)\n",
    "    print(\"----------------------------------------------------------------------------------------------------\")\n",
    "\n",
    "    replicated_fragments_lagging = [[] for i in range(total_helicase)]\n",
    "    for i,positions in enumerate(okazaki_fragment_positions(helicase_positions, total_helicase, scale)):\n",
    "            print(f'Lagging strand replication for Helicase {i+1}')\n",
    "            replication_lagging_strand(dna_seq_comp, i, positions)\n",
    "            print(\"----------------------------------------------------------------------------------------------------\")\n",
    "\n",
    "    print(\"Lagging strand's replication process has been completed\")\n",
    "\n",
    "    print(\"The replication process is complete.\")\n",
    "    print(\"----------------------------------------------------------------------------------------------------\")\n",
    "\n",
    "    son_1 = test_replication(dna_seq_comp, ''.join(replicated_fragments))\n",
    "    son_2 = test_replication(dna_seq, ''.join(replicated_fragments_lagging))\n",
    "\n",
    "    if son_1 and son_2:\n",
    "        print(\"The replication process has been successful.\")\n",
    "    else:\n",
    "        print(\"There's been a mutation in the replication process.\")\n",
    "\n",
    "    write_results(file_son_1, ''.join(replicated_fragments))\n",
    "    write_results(file_son_2, ''.join(replicated_fragments_lagging))"
   ]
  },
  {
   "cell_type": "code",
   "execution_count": 20,
   "metadata": {},
   "outputs": [],
   "source": [
    "from helicase import Helicase"
   ]
  },
  {
   "cell_type": "code",
   "execution_count": 32,
   "metadata": {},
   "outputs": [],
   "source": [
    "helicase_positions = [total_nucleotides // total_helicase * i for i in range(1, total_helicase)]\n",
    "helicase_positions.insert(0, 0)\n",
    "\n",
    "for i in range(1,total_helicase-1):\n",
    "    rand_value = random.randint(0, 50)\n",
    "    rand_sign = random.randint(1, 2)\n",
    "\n",
    "    helicase_positions[i] += (-1)**rand_sign * rand_value\n",
    "\n",
    "helicases = []\n",
    "for i in range(0, total_helicase-1):\n",
    "    print(helicase_positions[i], helicase_positions[i+1])\n",
    "    helicases.append(Helicase(helicase_positions[i], helicase_positions[i+1], nitro_bases))\n",
    "\n",
    "helicase_positions.append(total_nucleotides)\n",
    "print(helicase_positions)\n",
    "scale = 20"
   ]
  },
  {
   "cell_type": "code",
   "execution_count": null,
   "metadata": {},
   "outputs": [],
   "source": []
  },
  {
   "cell_type": "code",
   "execution_count": 19,
   "metadata": {},
   "outputs": [],
   "source": [
    "replication(total_nucleotides, total_helicase, dna_seq, dna_seq_comp, './data/son_1.txt', './data/son_2.txt')"
   ]
  }
 ],
 "metadata": {
  "kernelspec": {
   "display_name": "piav",
   "language": "python",
   "name": "python3"
  },
  "language_info": {
   "codemirror_mode": {
    "name": "ipython",
    "version": 3
   },
   "file_extension": ".py",
   "mimetype": "text/x-python",
   "name": "python",
   "nbconvert_exporter": "python",
   "pygments_lexer": "ipython3",
   "version": "3.10.9"
  }
 },
 "nbformat": 4,
 "nbformat_minor": 2
}
